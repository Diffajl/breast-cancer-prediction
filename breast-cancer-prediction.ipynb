{
 "cells": [
  {
   "cell_type": "code",
   "execution_count": 1,
   "id": "992ee1b0",
   "metadata": {
    "_cell_guid": "b1076dfc-b9ad-4769-8c92-a6c4dae69d19",
    "_uuid": "8f2839f25d086af736a60e9eeb907d3b93b6e0e5",
    "execution": {
     "iopub.execute_input": "2025-02-18T12:40:00.385305Z",
     "iopub.status.busy": "2025-02-18T12:40:00.384904Z",
     "iopub.status.idle": "2025-02-18T12:40:15.446422Z",
     "shell.execute_reply": "2025-02-18T12:40:15.445285Z"
    },
    "papermill": {
     "duration": 15.072507,
     "end_time": "2025-02-18T12:40:15.448477",
     "exception": false,
     "start_time": "2025-02-18T12:40:00.375970",
     "status": "completed"
    },
    "tags": []
   },
   "outputs": [],
   "source": [
    "import numpy as np\n",
    "import matplotlib.pyplot as plt\n",
    "import tensorflow as tf\n",
    "import os\n",
    "from PIL import Image"
   ]
  },
  {
   "cell_type": "code",
   "execution_count": 2,
   "id": "a7a23c2a",
   "metadata": {
    "execution": {
     "iopub.execute_input": "2025-02-18T12:40:15.458065Z",
     "iopub.status.busy": "2025-02-18T12:40:15.457413Z",
     "iopub.status.idle": "2025-02-18T12:40:15.462706Z",
     "shell.execute_reply": "2025-02-18T12:40:15.461810Z"
    },
    "papermill": {
     "duration": 0.011435,
     "end_time": "2025-02-18T12:40:15.464193",
     "exception": false,
     "start_time": "2025-02-18T12:40:15.452758",
     "status": "completed"
    },
    "tags": []
   },
   "outputs": [],
   "source": [
    "def load_images(path):\n",
    "    images = []\n",
    "    for filename in os.listdir(path):\n",
    "        img = Image.open(os.path.join(path, filename))\n",
    "        img = img.resize((50, 50))\n",
    "        img = img.convert(\"RGB\")\n",
    "        img = np.array(img) / 255\n",
    "        images.append(img)\n",
    "    return images"
   ]
  },
  {
   "cell_type": "code",
   "execution_count": 3,
   "id": "c2a2064d",
   "metadata": {
    "execution": {
     "iopub.execute_input": "2025-02-18T12:40:15.472951Z",
     "iopub.status.busy": "2025-02-18T12:40:15.472655Z",
     "iopub.status.idle": "2025-02-18T12:40:21.055289Z",
     "shell.execute_reply": "2025-02-18T12:40:21.054075Z"
    },
    "papermill": {
     "duration": 5.589736,
     "end_time": "2025-02-18T12:40:21.057723",
     "exception": false,
     "start_time": "2025-02-18T12:40:15.467987",
     "status": "completed"
    },
    "tags": []
   },
   "outputs": [],
   "source": [
    "no_tumor_images = load_images(\"/kaggle/input/breast-histopathology-images/10253/0/\")\n",
    "tumor_images = load_images(\"/kaggle/input/breast-histopathology-images/10253/1/\")"
   ]
  },
  {
   "cell_type": "code",
   "execution_count": 4,
   "id": "d872a4c0",
   "metadata": {
    "execution": {
     "iopub.execute_input": "2025-02-18T12:40:21.067703Z",
     "iopub.status.busy": "2025-02-18T12:40:21.067327Z",
     "iopub.status.idle": "2025-02-18T12:40:21.072010Z",
     "shell.execute_reply": "2025-02-18T12:40:21.070799Z"
    },
    "papermill": {
     "duration": 0.011675,
     "end_time": "2025-02-18T12:40:21.073987",
     "exception": false,
     "start_time": "2025-02-18T12:40:21.062312",
     "status": "completed"
    },
    "tags": []
   },
   "outputs": [],
   "source": [
    "no_tumor_labels = np.zeros(len(no_tumor_images))\n",
    "tumor_labels = np.ones(len(tumor_images))"
   ]
  },
  {
   "cell_type": "code",
   "execution_count": 5,
   "id": "ce575f6f",
   "metadata": {
    "execution": {
     "iopub.execute_input": "2025-02-18T12:40:21.083242Z",
     "iopub.status.busy": "2025-02-18T12:40:21.082856Z",
     "iopub.status.idle": "2025-02-18T12:40:21.089897Z",
     "shell.execute_reply": "2025-02-18T12:40:21.088611Z"
    },
    "papermill": {
     "duration": 0.013642,
     "end_time": "2025-02-18T12:40:21.091679",
     "exception": false,
     "start_time": "2025-02-18T12:40:21.078037",
     "status": "completed"
    },
    "tags": []
   },
   "outputs": [
    {
     "data": {
      "text/plain": [
       "479"
      ]
     },
     "execution_count": 5,
     "metadata": {},
     "output_type": "execute_result"
    }
   ],
   "source": [
    "len(no_tumor_images)"
   ]
  },
  {
   "cell_type": "code",
   "execution_count": 6,
   "id": "7212c87e",
   "metadata": {
    "execution": {
     "iopub.execute_input": "2025-02-18T12:40:21.101218Z",
     "iopub.status.busy": "2025-02-18T12:40:21.100778Z",
     "iopub.status.idle": "2025-02-18T12:40:21.106736Z",
     "shell.execute_reply": "2025-02-18T12:40:21.105695Z"
    },
    "papermill": {
     "duration": 0.012378,
     "end_time": "2025-02-18T12:40:21.108253",
     "exception": false,
     "start_time": "2025-02-18T12:40:21.095875",
     "status": "completed"
    },
    "tags": []
   },
   "outputs": [
    {
     "data": {
      "text/plain": [
       "70"
      ]
     },
     "execution_count": 6,
     "metadata": {},
     "output_type": "execute_result"
    }
   ],
   "source": [
    "len(tumor_images)"
   ]
  },
  {
   "cell_type": "code",
   "execution_count": 7,
   "id": "88e9e92d",
   "metadata": {
    "execution": {
     "iopub.execute_input": "2025-02-18T12:40:21.118001Z",
     "iopub.status.busy": "2025-02-18T12:40:21.117627Z",
     "iopub.status.idle": "2025-02-18T12:40:21.138933Z",
     "shell.execute_reply": "2025-02-18T12:40:21.137959Z"
    },
    "papermill": {
     "duration": 0.028373,
     "end_time": "2025-02-18T12:40:21.140902",
     "exception": false,
     "start_time": "2025-02-18T12:40:21.112529",
     "status": "completed"
    },
    "tags": []
   },
   "outputs": [],
   "source": [
    "X = np.array(no_tumor_images + tumor_images)\n",
    "y = np.array(np.concatenate((no_tumor_labels, tumor_labels)))"
   ]
  },
  {
   "cell_type": "code",
   "execution_count": 8,
   "id": "f92a6cee",
   "metadata": {
    "execution": {
     "iopub.execute_input": "2025-02-18T12:40:21.150729Z",
     "iopub.status.busy": "2025-02-18T12:40:21.150315Z",
     "iopub.status.idle": "2025-02-18T12:40:22.405621Z",
     "shell.execute_reply": "2025-02-18T12:40:22.404497Z"
    },
    "papermill": {
     "duration": 1.262359,
     "end_time": "2025-02-18T12:40:22.407615",
     "exception": false,
     "start_time": "2025-02-18T12:40:21.145256",
     "status": "completed"
    },
    "tags": []
   },
   "outputs": [],
   "source": [
    "from sklearn.model_selection import train_test_split\n",
    "X_train, X_test, y_train, y_test = train_test_split(X, y, test_size=0.2)"
   ]
  },
  {
   "cell_type": "code",
   "execution_count": 9,
   "id": "05c9c10a",
   "metadata": {
    "execution": {
     "iopub.execute_input": "2025-02-18T12:40:22.417522Z",
     "iopub.status.busy": "2025-02-18T12:40:22.416842Z",
     "iopub.status.idle": "2025-02-18T12:40:22.638935Z",
     "shell.execute_reply": "2025-02-18T12:40:22.637497Z"
    },
    "papermill": {
     "duration": 0.228934,
     "end_time": "2025-02-18T12:40:22.640816",
     "exception": false,
     "start_time": "2025-02-18T12:40:22.411882",
     "status": "completed"
    },
    "tags": []
   },
   "outputs": [
    {
     "name": "stderr",
     "output_type": "stream",
     "text": [
      "/usr/local/lib/python3.10/dist-packages/keras/src/layers/convolutional/base_conv.py:107: UserWarning: Do not pass an `input_shape`/`input_dim` argument to a layer. When using Sequential models, prefer using an `Input(shape)` object as the first layer in the model instead.\n",
      "  super().__init__(activity_regularizer=activity_regularizer, **kwargs)\n"
     ]
    }
   ],
   "source": [
    "model = tf.keras.models.Sequential([\n",
    "    tf.keras.layers.Conv2D(32, (3, 3), input_shape=(50, 50, 3), padding='valid'),\n",
    "    tf.keras.layers.MaxPooling2D((2,2)),\n",
    "    tf.keras.layers.Conv2D(32, (3, 3), input_shape=(50, 50, 3), padding='valid'),\n",
    "    tf.keras.layers.MaxPooling2D((2,2)),\n",
    "    tf.keras.layers.Flatten(),\n",
    "    tf.keras.layers.Dense(512, activation='relu'),\n",
    "    tf.keras.layers.Dense(256, activation='relu'),\n",
    "    tf.keras.layers.Dropout(0.2),\n",
    "    tf.keras.layers.Dense(1, activation='sigmoid'),\n",
    "])\n",
    "model.compile(optimizer='adam', loss='binary_crossentropy', metrics=['accuracy'])"
   ]
  },
  {
   "cell_type": "code",
   "execution_count": 10,
   "id": "0caa1f58",
   "metadata": {
    "execution": {
     "iopub.execute_input": "2025-02-18T12:40:22.650660Z",
     "iopub.status.busy": "2025-02-18T12:40:22.650311Z",
     "iopub.status.idle": "2025-02-18T12:40:33.084196Z",
     "shell.execute_reply": "2025-02-18T12:40:33.082939Z"
    },
    "papermill": {
     "duration": 10.441575,
     "end_time": "2025-02-18T12:40:33.086773",
     "exception": false,
     "start_time": "2025-02-18T12:40:22.645198",
     "status": "completed"
    },
    "tags": []
   },
   "outputs": [
    {
     "name": "stdout",
     "output_type": "stream",
     "text": [
      "Epoch 1/10\n",
      "\u001b[1m14/14\u001b[0m \u001b[32m━━━━━━━━━━━━━━━━━━━━\u001b[0m\u001b[37m\u001b[0m \u001b[1m3s\u001b[0m 55ms/step - accuracy: 0.7742 - loss: 0.5666\n",
      "Epoch 2/10\n",
      "\u001b[1m14/14\u001b[0m \u001b[32m━━━━━━━━━━━━━━━━━━━━\u001b[0m\u001b[37m\u001b[0m \u001b[1m1s\u001b[0m 56ms/step - accuracy: 0.8567 - loss: 0.3365\n",
      "Epoch 3/10\n",
      "\u001b[1m14/14\u001b[0m \u001b[32m━━━━━━━━━━━━━━━━━━━━\u001b[0m\u001b[37m\u001b[0m \u001b[1m1s\u001b[0m 50ms/step - accuracy: 0.9304 - loss: 0.2448\n",
      "Epoch 4/10\n",
      "\u001b[1m14/14\u001b[0m \u001b[32m━━━━━━━━━━━━━━━━━━━━\u001b[0m\u001b[37m\u001b[0m \u001b[1m1s\u001b[0m 50ms/step - accuracy: 0.9268 - loss: 0.2402\n",
      "Epoch 5/10\n",
      "\u001b[1m14/14\u001b[0m \u001b[32m━━━━━━━━━━━━━━━━━━━━\u001b[0m\u001b[37m\u001b[0m \u001b[1m1s\u001b[0m 50ms/step - accuracy: 0.9495 - loss: 0.1904\n",
      "Epoch 6/10\n",
      "\u001b[1m14/14\u001b[0m \u001b[32m━━━━━━━━━━━━━━━━━━━━\u001b[0m\u001b[37m\u001b[0m \u001b[1m1s\u001b[0m 49ms/step - accuracy: 0.9648 - loss: 0.1534\n",
      "Epoch 7/10\n",
      "\u001b[1m14/14\u001b[0m \u001b[32m━━━━━━━━━━━━━━━━━━━━\u001b[0m\u001b[37m\u001b[0m \u001b[1m1s\u001b[0m 49ms/step - accuracy: 0.9601 - loss: 0.1486\n",
      "Epoch 8/10\n",
      "\u001b[1m14/14\u001b[0m \u001b[32m━━━━━━━━━━━━━━━━━━━━\u001b[0m\u001b[37m\u001b[0m \u001b[1m1s\u001b[0m 49ms/step - accuracy: 0.9397 - loss: 0.1466\n",
      "Epoch 9/10\n",
      "\u001b[1m14/14\u001b[0m \u001b[32m━━━━━━━━━━━━━━━━━━━━\u001b[0m\u001b[37m\u001b[0m \u001b[1m1s\u001b[0m 49ms/step - accuracy: 0.9575 - loss: 0.1407\n",
      "Epoch 10/10\n",
      "\u001b[1m14/14\u001b[0m \u001b[32m━━━━━━━━━━━━━━━━━━━━\u001b[0m\u001b[37m\u001b[0m \u001b[1m1s\u001b[0m 64ms/step - accuracy: 0.9702 - loss: 0.0742\n"
     ]
    }
   ],
   "source": [
    "history = model.fit(X_train, y_train, epochs=10, verbose=1)"
   ]
  },
  {
   "cell_type": "code",
   "execution_count": 11,
   "id": "16966444",
   "metadata": {
    "execution": {
     "iopub.execute_input": "2025-02-18T12:40:33.119102Z",
     "iopub.status.busy": "2025-02-18T12:40:33.118613Z",
     "iopub.status.idle": "2025-02-18T12:40:33.324446Z",
     "shell.execute_reply": "2025-02-18T12:40:33.323247Z"
    },
    "papermill": {
     "duration": 0.220395,
     "end_time": "2025-02-18T12:40:33.326423",
     "exception": false,
     "start_time": "2025-02-18T12:40:33.106028",
     "status": "completed"
    },
    "tags": []
   },
   "outputs": [
    {
     "data": {
      "image/png": "[encoded data removed]",
      "text/plain": [
       "<Figure size 640x480 with 1 Axes>"
      ]
     },
     "metadata": {},
     "output_type": "display_data"
    }
   ],
   "source": [
    "plt.plot(history.history['loss'], label='loss')\n",
    "plt.plot(history.history['accuracy'], label='accuracy')\n",
    "plt.legend(loc='upper right')\n",
    "plt.show()"
   ]
  },
  {
   "cell_type": "code",
   "execution_count": 12,
   "id": "5a69be29",
   "metadata": {
    "execution": {
     "iopub.execute_input": "2025-02-18T12:40:33.352902Z",
     "iopub.status.busy": "2025-02-18T12:40:33.352411Z",
     "iopub.status.idle": "2025-02-18T12:40:33.377726Z",
     "shell.execute_reply": "2025-02-18T12:40:33.376417Z"
    },
    "papermill": {
     "duration": 0.040954,
     "end_time": "2025-02-18T12:40:33.379840",
     "exception": false,
     "start_time": "2025-02-18T12:40:33.338886",
     "status": "completed"
    },
    "tags": []
   },
   "outputs": [],
   "source": [
    "test_images = Image.open(\"/kaggle/input/breast-histopathology-images/10254/0/10254_idx5_x1001_y1001_class0.png\")\n",
    "test_images = test_images.resize((50, 50))\n",
    "test_images = test_images.convert('RGB')\n",
    "test_images = np.array(test_images) / 255"
   ]
  },
  {
   "cell_type": "code",
   "execution_count": 13,
   "id": "080a3825",
   "metadata": {
    "execution": {
     "iopub.execute_input": "2025-02-18T12:40:33.404808Z",
     "iopub.status.busy": "2025-02-18T12:40:33.404457Z",
     "iopub.status.idle": "2025-02-18T12:40:33.594952Z",
     "shell.execute_reply": "2025-02-18T12:40:33.593945Z"
    },
    "papermill": {
     "duration": 0.204939,
     "end_time": "2025-02-18T12:40:33.596816",
     "exception": false,
     "start_time": "2025-02-18T12:40:33.391877",
     "status": "completed"
    },
    "tags": []
   },
   "outputs": [
    {
     "data": {
      "text/plain": [
       "<matplotlib.image.AxesImage at 0x7ba34c247130>"
      ]
     },
     "execution_count": 13,
     "metadata": {},
     "output_type": "execute_result"
    },
    {
     "data": {
      "image/png": "[encoded data removed]",
      "text/plain": [
       "<Figure size 640x480 with 1 Axes>"
      ]
     },
     "metadata": {},
     "output_type": "display_data"
    }
   ],
   "source": [
    "plt.imshow(test_images)"
   ]
  },
  {
   "cell_type": "code",
   "execution_count": 14,
   "id": "53ceaec9",
   "metadata": {
    "execution": {
     "iopub.execute_input": "2025-02-18T12:40:33.623712Z",
     "iopub.status.busy": "2025-02-18T12:40:33.623242Z",
     "iopub.status.idle": "2025-02-18T12:40:33.628202Z",
     "shell.execute_reply": "2025-02-18T12:40:33.627128Z"
    },
    "papermill": {
     "duration": 0.02041,
     "end_time": "2025-02-18T12:40:33.629918",
     "exception": false,
     "start_time": "2025-02-18T12:40:33.609508",
     "status": "completed"
    },
    "tags": []
   },
   "outputs": [],
   "source": [
    "test_images = np.expand_dims(test_images, axis=0)"
   ]
  },
  {
   "cell_type": "code",
   "execution_count": 15,
   "id": "9d08e4cc",
   "metadata": {
    "execution": {
     "iopub.execute_input": "2025-02-18T12:40:33.656530Z",
     "iopub.status.busy": "2025-02-18T12:40:33.656047Z",
     "iopub.status.idle": "2025-02-18T12:40:33.794765Z",
     "shell.execute_reply": "2025-02-18T12:40:33.793621Z"
    },
    "papermill": {
     "duration": 0.154105,
     "end_time": "2025-02-18T12:40:33.796496",
     "exception": false,
     "start_time": "2025-02-18T12:40:33.642391",
     "status": "completed"
    },
    "tags": []
   },
   "outputs": [
    {
     "name": "stdout",
     "output_type": "stream",
     "text": [
      "\u001b[1m1/1\u001b[0m \u001b[32m━━━━━━━━━━━━━━━━━━━━\u001b[0m\u001b[37m\u001b[0m \u001b[1m0s\u001b[0m 82ms/step\n"
     ]
    }
   ],
   "source": [
    "hasil = model.predict(test_images)"
   ]
  },
  {
   "cell_type": "code",
   "execution_count": 16,
   "id": "8bb67dfe",
   "metadata": {
    "execution": {
     "iopub.execute_input": "2025-02-18T12:40:33.823312Z",
     "iopub.status.busy": "2025-02-18T12:40:33.822949Z",
     "iopub.status.idle": "2025-02-18T12:40:33.828281Z",
     "shell.execute_reply": "2025-02-18T12:40:33.827060Z"
    },
    "papermill": {
     "duration": 0.020342,
     "end_time": "2025-02-18T12:40:33.829801",
     "exception": false,
     "start_time": "2025-02-18T12:40:33.809459",
     "status": "completed"
    },
    "tags": []
   },
   "outputs": [
    {
     "name": "stdout",
     "output_type": "stream",
     "text": [
      "NO TUMOR\n"
     ]
    }
   ],
   "source": [
    "if hasil > 0.5:\n",
    "    print(\"TUMOR\")\n",
    "else:\n",
    "    print(\"NO TUMOR\")"
   ]
  },
  {
   "cell_type": "code",
   "execution_count": null,
   "id": "6b684d68",
   "metadata": {
    "papermill": {
     "duration": 0.012139,
     "end_time": "2025-02-18T12:40:33.854266",
     "exception": false,
     "start_time": "2025-02-18T12:40:33.842127",
     "status": "completed"
    },
    "tags": []
   },
   "outputs": [],
   "source": []
  }
 ],
 "metadata": {
  "kaggle": {
   "accelerator": "none",
   "dataSources": [
    {
     "datasetId": 7415,
     "sourceId": 10564,
     "sourceType": "datasetVersion"
    }
   ],
   "dockerImageVersionId": 30886,
   "isGpuEnabled": false,
   "isInternetEnabled": false,
   "language": "python",
   "sourceType": "notebook"
  },
  "kernelspec": {
   "display_name": "Python 3",
   "language": "python",
   "name": "python3"
  },
  "language_info": {
   "codemirror_mode": {
    "name": "ipython",
    "version": 3
   },
   "file_extension": ".py",
   "mimetype": "text/x-python",
   "name": "python",
   "nbconvert_exporter": "python",
   "pygments_lexer": "ipython3",
   "version": "3.10.12"
  },
  "papermill": {
   "default_parameters": {},
   "duration": 38.589933,
   "end_time": "2025-02-18T12:40:36.243016",
   "environment_variables": {},
   "exception": null,
   "input_path": "__notebook__.ipynb",
   "output_path": "__notebook__.ipynb",
   "parameters": {},
   "start_time": "2025-02-18T12:39:57.653083",
   "version": "2.6.0"
  }
 },
 "nbformat": 4,
 "nbformat_minor": 5
}
